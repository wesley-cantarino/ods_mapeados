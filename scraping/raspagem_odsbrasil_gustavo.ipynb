{
 "cells": [
  {
   "cell_type": "code",
   "execution_count": 4,
   "metadata": {},
   "outputs": [],
   "source": [
    "from bs4 import BeautifulSoup\n",
    "from requests_html import HTMLSession, AsyncHTMLSession\n",
    "import pandas as pd"
   ]
  },
  {
   "cell_type": "code",
   "execution_count": 5,
   "metadata": {
    "scrolled": true
   },
   "outputs": [
    {
     "name": "stdout",
     "output_type": "stream",
     "text": [
      "Lendo ODS 1\n",
      "\t TimeoutError -- Trying again\n",
      "\t Not Fully Loaded -- Trying again\n",
      "\t ODS 1 Lido\n",
      "Lendo ODS 2\n",
      "\t Not Fully Loaded -- Trying again\n",
      "\t TimeoutError -- Trying again\n",
      "\t TimeoutError -- Trying again\n",
      "\t ODS 2 Lido\n",
      "Lendo ODS 3\n",
      "\t ODS 3 Lido\n",
      "Lendo ODS 4\n",
      "\t TimeoutError -- Trying again\n",
      "\t Not Fully Loaded -- Trying again\n",
      "\t Not Fully Loaded -- Trying again\n",
      "\t ODS 4 Lido\n",
      "Lendo ODS 5\n",
      "\t TimeoutError -- Trying again\n",
      "\t ODS 5 Lido\n",
      "Lendo ODS 6\n",
      "\t ODS 6 Lido\n",
      "Lendo ODS 7\n",
      "\t ODS 7 Lido\n",
      "Lendo ODS 8\n",
      "\t Not Fully Loaded -- Trying again\n",
      "\t TimeoutError -- Trying again\n",
      "\t TimeoutError -- Trying again\n",
      "\t ODS 8 Lido\n",
      "Lendo ODS 9\n",
      "\t ODS 9 Lido\n",
      "Lendo ODS 10\n",
      "\t Not Fully Loaded -- Trying again\n",
      "\t Not Fully Loaded -- Trying again\n",
      "\t ODS 10 Lido\n",
      "Lendo ODS 11\n",
      "\t ODS 11 Lido\n",
      "Lendo ODS 12\n",
      "\t Not Fully Loaded -- Trying again\n",
      "\t TimeoutError -- Trying again\n",
      "\t ODS 12 Lido\n",
      "Lendo ODS 13\n",
      "\t Not Fully Loaded -- Trying again\n",
      "\t ODS 13 Lido\n",
      "Lendo ODS 14\n",
      "\t Not Fully Loaded -- Trying again\n",
      "\t ODS 14 Lido\n",
      "Lendo ODS 15\n",
      "\t TimeoutError -- Trying again\n",
      "\t Not Fully Loaded -- Trying again\n",
      "\t Not Fully Loaded -- Trying again\n",
      "\t TimeoutError -- Trying again\n",
      "\t TimeoutError -- Trying again\n",
      "\t Not Fully Loaded -- Trying again\n",
      "\t Not Fully Loaded -- Trying again\n",
      "\t TimeoutError -- Trying again\n",
      "\t ODS 15 Lido\n",
      "Lendo ODS 16\n",
      "\t TimeoutError -- Trying again\n",
      "\t Not Fully Loaded -- Trying again\n",
      "\t Not Fully Loaded -- Trying again\n",
      "\t TimeoutError -- Trying again\n",
      "\t TimeoutError -- Trying again\n",
      "\t TimeoutError -- Trying again\n",
      "\t TimeoutError -- Trying again\n",
      "\t Not Fully Loaded -- Trying again\n",
      "\t Not Fully Loaded -- Trying again\n",
      "\t TimeoutError -- Trying again\n",
      "\t Not Fully Loaded -- Trying again\n",
      "\t Not Fully Loaded -- Trying again\n",
      "\t TimeoutError -- Trying again\n",
      "\t TimeoutError -- Trying again\n",
      "\t TimeoutError -- Trying again\n",
      "\t Not Fully Loaded -- Trying again\n",
      "\t ODS 16 Lido\n",
      "Lendo ODS 17\n",
      "\t Not Fully Loaded -- Trying again\n",
      "\t Not Fully Loaded -- Trying again\n",
      "\t TimeoutError -- Trying again\n",
      "\t Not Fully Loaded -- Trying again\n",
      "\t TimeoutError -- Trying again\n",
      "\t TimeoutError -- Trying again\n",
      "\t TimeoutError -- Trying again\n",
      "\t TimeoutError -- Trying again\n",
      "\t TimeoutError -- Trying again\n",
      "\t TimeoutError -- Trying again\n",
      "\t ODS 17 Lido\n"
     ]
    }
   ],
   "source": [
    "soups = []\n",
    "\n",
    "for ods in range(1, 18):\n",
    "    print(\"Lendo ODS \" + str(ods))\n",
    "    keep = True\n",
    "    while keep:\n",
    "        try:\n",
    "            html = \"https://odsbrasil.gov.br/objetivo/objetivo?n=\"+str(ods)\n",
    "            asession = AsyncHTMLSession()\n",
    "            r = await asession.get(html)\n",
    "            await r.html.arender(timeout=15)\n",
    "            resp = r.html.raw_html\n",
    "            s = BeautifulSoup(resp, 'lxml')\n",
    "            r.close()\n",
    "            await asession.close()\n",
    "            \n",
    "            if 0 != len(s.find_all('p', {'class': \"layout-header-metas font-pequena m-1\"})):\n",
    "                keep = False\n",
    "                soups.append(s)\n",
    "                print(\"\\t ODS \" + str(ods) + \" Lido\")\n",
    "            else:\n",
    "                print(\"\\t Not Fully Loaded -- Trying again\")\n",
    "                \n",
    "        except:\n",
    "            print(\"\\t TimeoutError -- Trying again\")"
   ]
  },
  {
   "cell_type": "code",
   "execution_count": 6,
   "metadata": {},
   "outputs": [],
   "source": [
    "#soups = []\n",
    "#for ods in range(1, 18):\n",
    "#    html = urlopen(\"https://odsbrasil.gov.br/objetivo/objetivo?n=\"+str(ods))\n",
    "#    soups.append(BeautifulSoup(html, 'html.parser'))"
   ]
  },
  {
   "cell_type": "markdown",
   "metadata": {},
   "source": [
    "### Lê os títulos dos ODS em cada página"
   ]
  },
  {
   "cell_type": "code",
   "execution_count": 7,
   "metadata": {},
   "outputs": [],
   "source": [
    "#print(soups[0])"
   ]
  },
  {
   "cell_type": "code",
   "execution_count": 8,
   "metadata": {},
   "outputs": [
    {
     "name": "stdout",
     "output_type": "stream",
     "text": [
      "['Objetivo 1 - Erradicação da Pobreza', 'Objetivo 2 - Fome Zero e Agricultura Sustentável', 'Objetivo 3 - Boa Saúde e Bem-Estar', 'Objetivo 4 - Educação de Qualidade', 'Objetivo 5 - Igualdade de Gênero', 'Objetivo 6 - Água Potável e Saneamento', 'Objetivo 7 - Energia Limpa e Acessível', 'Objetivo 8 - Emprego Decente e Crescimento Econômico', 'Objetivo 9 - Indústria, Inovação e Infraestrutura', 'Objetivo 10 - Redução das Desigualdades', 'Objetivo 11 - Cidades e Comunidades Sustentáveis', 'Objetivo 12 - Consumo e Produção Responsáveis', 'Objetivo 13 - Ação Contra a Mudança Global do Clima', 'Objetivo 14 - Vida na Água', 'Objetivo 15 - Vida Terrestre', 'Objetivo 16 - Paz, Justiça e Instituições Eficazes', 'Objetivo 17 - Parcerias e Meios de Implementação']\n"
     ]
    }
   ],
   "source": [
    "lista_ODS = []\n",
    "\n",
    "for soup in soups:\n",
    "    for b in soup.find_all('h4', {'class':\"texto faixa-onu-texto\"}):\n",
    "        lista_ODS.append((str(b).split(\"</a>\"))[1].split(\"<a\")[0].strip())\n",
    "print(lista_ODS)"
   ]
  },
  {
   "cell_type": "markdown",
   "metadata": {},
   "source": [
    "### Lê a descrição dos ODS em cada página"
   ]
  },
  {
   "cell_type": "code",
   "execution_count": 9,
   "metadata": {},
   "outputs": [
    {
     "name": "stdout",
     "output_type": "stream",
     "text": [
      "[<div id=\"descricao-objetivo\"><h3>Acabar com a pobreza em todas as suas formas, em todos os lugares</h3></div>]\n"
     ]
    }
   ],
   "source": [
    "for i, soup in enumerate(soups):\n",
    "    d = soup.find_all('div', {'id':\"descricao-objetivo\"})\n",
    "    #print('ODS', i+1, \":\", (str(d).split(\"<h3>\"))[1].split(\"</h3>\")[0].strip(), \"\\n\")\n",
    "    print(d)\n",
    "    break"
   ]
  },
  {
   "cell_type": "code",
   "execution_count": 10,
   "metadata": {
    "scrolled": true
   },
   "outputs": [
    {
     "name": "stdout",
     "output_type": "stream",
     "text": [
      "ODS 1 : Acabar com a pobreza em todas as suas formas, em todos os lugares\n"
     ]
    }
   ],
   "source": [
    "string = str(d)\n",
    "lista =string.split(\"<h3>\")\n",
    "string2 = lista[1]\n",
    "lista2 = string2.split(\"</h3>\")\n",
    "descricao = lista2[0]\n",
    "\n",
    "print('ODS', 1,':', descricao)"
   ]
  },
  {
   "cell_type": "markdown",
   "metadata": {},
   "source": [
    "### Lê conjunto de metas de cada ODS em cada página"
   ]
  },
  {
   "cell_type": "code",
   "execution_count": 11,
   "metadata": {},
   "outputs": [],
   "source": [
    "import pandas as pd"
   ]
  },
  {
   "cell_type": "code",
   "execution_count": 12,
   "metadata": {},
   "outputs": [],
   "source": [
    "ODS = []\n",
    "for i, soup in enumerate(soups):\n",
    "    #print(\"\\n ###################### METAS PARA ODS \", i+1, \"\\n\")\n",
    "    d = soup.find_all('p', {'class': \"layout-header-metas font-pequena m-1\"})\n",
    "    ODS_aux = []\n",
    "    \n",
    "    for ss in d:\n",
    "        begin = '''<p class=\"layout-header-metas font-pequena m-1\">'''\n",
    "        end = '''</p>'''\n",
    "        #print(\"\\t\", str(ss).split(begin)[1].split(end)[0].strip(), \"\\n\")\n",
    "        ODS_aux.append(str(ss).split(begin)[1].split(end)[0].strip())\n",
    "    \n",
    "    ODS.append(ODS_aux)\n",
    "\n",
    "#print(ODS[0][6])\n",
    "#len(ODS[0][:])"
   ]
  },
  {
   "cell_type": "code",
   "execution_count": 13,
   "metadata": {
    "scrolled": true
   },
   "outputs": [
    {
     "name": "stdout",
     "output_type": "stream",
     "text": [
      "1.1 - Até 2030, erradicar a pobreza extrema para todas as pessoas em todos os lugares, atualmente medida como pessoas vivendo com menos de US$ 1,25 por dia \n",
      "\n",
      "Até 2030, erradicar a pobreza extrema para todas as pessoas em todos os lugares, atualmente medida como pessoas vivendo com menos de US$ 1,25 por dia\n"
     ]
    }
   ],
   "source": [
    "#forma de se retirar o i.j das metas\n",
    "\n",
    "print(ODS[0][0], \"\\n\")\n",
    "\n",
    "abc = str(ODS[0][0]).split('''- ''')[1]\n",
    "print(abc)"
   ]
  },
  {
   "cell_type": "code",
   "execution_count": 25,
   "metadata": {},
   "outputs": [],
   "source": [
    "#Listas para colunas \"vazias\"\n",
    "lista_orientador = ['Bob Esponja','Gary','Patrick Estrela','Senhora Puff','Lula Molusco','Larry Lagosta','Plackton','Karen','Sandy Bochecas','Holandês Voador','Seu Sirigueijo','Pérola','Rei Neturno','Bubble Bass','Squilliam Fancyson','Bubble Bass','Potty the Parrot']\n",
    "lista_emails = ['BobEsponja@gmail.com','Gary@gmail.com','PatrickEstrela@gmail.com','SenhoraPuff@gmail.com','LulaMolusco@gmail.com','LarryLagosta@gmail.com','Plackton@gmail.com','Karen@gmail.com','SandyBochecas@gmail.com','HolandêsVoador@gmail.com','SeuSirigueijo@gmail.com','Pérola@gmail.com','ReiNeturno@gmail.com','BubbleBass@gmail.com','SquilliamFancyson@gmail.com','BubbleBass@gmail.com','PottytheParrot@gmail.com']\n",
    "lista_colaboradores = ['Bob Esponja','Gary','Patrick Estrela','Senhora Puff','Lula Molusco','Larry Lagosta','Plackton','Karen','Sandy Bochecas','Holandês Voador','Seu Sirigueijo','Pérola','Rei Neturno','Bubble Bass','Squilliam Fancyson','Bubble Bass','Potty the Parrot']\n",
    "lista_projeto = ['ODS 1','ODS 2','ODS 3','ODS 4','ODS 5','ODS 6','ODS 7','ODS 8','ODS 9','ODS 10','ODS 11','ODS 12','ODS 13','ODS 14','ODS 15','ODS 16','ODS 17']"
   ]
  },
  {
   "cell_type": "code",
   "execution_count": 26,
   "metadata": {},
   "outputs": [
    {
     "data": {
      "text/html": [
       "<div>\n",
       "<style scoped>\n",
       "    .dataframe tbody tr th:only-of-type {\n",
       "        vertical-align: middle;\n",
       "    }\n",
       "\n",
       "    .dataframe tbody tr th {\n",
       "        vertical-align: top;\n",
       "    }\n",
       "\n",
       "    .dataframe thead th {\n",
       "        text-align: right;\n",
       "    }\n",
       "</style>\n",
       "<table border=\"1\" class=\"dataframe\">\n",
       "  <thead>\n",
       "    <tr style=\"text-align: right;\">\n",
       "      <th></th>\n",
       "      <th>Área do Projeto</th>\n",
       "      <th>Orientador</th>\n",
       "      <th>E-Mail orientador</th>\n",
       "      <th>Colaboradores</th>\n",
       "      <th>Projeto</th>\n",
       "      <th>Resumo</th>\n",
       "    </tr>\n",
       "  </thead>\n",
       "  <tbody>\n",
       "    <tr>\n",
       "      <th>0</th>\n",
       "      <td>Objetivo 1 - Erradicação da Pobreza</td>\n",
       "      <td>Bob Esponja</td>\n",
       "      <td>BobEsponja@gmail.com</td>\n",
       "      <td>Bob Esponja</td>\n",
       "      <td>ODS 1</td>\n",
       "      <td>[Até 2030, erradicar a pobreza extrema para to...</td>\n",
       "    </tr>\n",
       "    <tr>\n",
       "      <th>1</th>\n",
       "      <td>Objetivo 2 - Fome Zero e Agricultura Sustentável</td>\n",
       "      <td>Gary</td>\n",
       "      <td>Gary@gmail.com</td>\n",
       "      <td>Gary</td>\n",
       "      <td>ODS 2</td>\n",
       "      <td>[Até 2030, acabar com a fome e garantir o aces...</td>\n",
       "    </tr>\n",
       "    <tr>\n",
       "      <th>2</th>\n",
       "      <td>Objetivo 3 - Boa Saúde e Bem-Estar</td>\n",
       "      <td>Patrick Estrela</td>\n",
       "      <td>PatrickEstrela@gmail.com</td>\n",
       "      <td>Patrick Estrela</td>\n",
       "      <td>ODS 3</td>\n",
       "      <td>[Até 2030, reduzir a taxa de mortalidade mater...</td>\n",
       "    </tr>\n",
       "    <tr>\n",
       "      <th>3</th>\n",
       "      <td>Objetivo 4 - Educação de Qualidade</td>\n",
       "      <td>Senhora Puff</td>\n",
       "      <td>SenhoraPuff@gmail.com</td>\n",
       "      <td>Senhora Puff</td>\n",
       "      <td>ODS 4</td>\n",
       "      <td>[Até 2030, garantir que todas as meninas e men...</td>\n",
       "    </tr>\n",
       "    <tr>\n",
       "      <th>4</th>\n",
       "      <td>Objetivo 5 - Igualdade de Gênero</td>\n",
       "      <td>Lula Molusco</td>\n",
       "      <td>LulaMolusco@gmail.com</td>\n",
       "      <td>Lula Molusco</td>\n",
       "      <td>ODS 5</td>\n",
       "      <td>[Acabar com todas as formas de discriminação c...</td>\n",
       "    </tr>\n",
       "    <tr>\n",
       "      <th>5</th>\n",
       "      <td>Objetivo 6 - Água Potável e Saneamento</td>\n",
       "      <td>Larry Lagosta</td>\n",
       "      <td>LarryLagosta@gmail.com</td>\n",
       "      <td>Larry Lagosta</td>\n",
       "      <td>ODS 6</td>\n",
       "      <td>[Até 2030, alcançar o acesso universal e equit...</td>\n",
       "    </tr>\n",
       "    <tr>\n",
       "      <th>6</th>\n",
       "      <td>Objetivo 7 - Energia Limpa e Acessível</td>\n",
       "      <td>Plackton</td>\n",
       "      <td>Plackton@gmail.com</td>\n",
       "      <td>Plackton</td>\n",
       "      <td>ODS 7</td>\n",
       "      <td>[Até 2030, assegurar o acesso universal, confi...</td>\n",
       "    </tr>\n",
       "    <tr>\n",
       "      <th>7</th>\n",
       "      <td>Objetivo 8 - Emprego Decente e Crescimento Eco...</td>\n",
       "      <td>Karen</td>\n",
       "      <td>Karen@gmail.com</td>\n",
       "      <td>Karen</td>\n",
       "      <td>ODS 8</td>\n",
       "      <td>[Sustentar o crescimento econômico per capita ...</td>\n",
       "    </tr>\n",
       "    <tr>\n",
       "      <th>8</th>\n",
       "      <td>Objetivo 9 - Indústria, Inovação e Infraestrutura</td>\n",
       "      <td>Sandy Bochecas</td>\n",
       "      <td>SandyBochecas@gmail.com</td>\n",
       "      <td>Sandy Bochecas</td>\n",
       "      <td>ODS 9</td>\n",
       "      <td>[Desenvolver infraestrutura de qualidade, conf...</td>\n",
       "    </tr>\n",
       "    <tr>\n",
       "      <th>9</th>\n",
       "      <td>Objetivo 10 - Redução das Desigualdades</td>\n",
       "      <td>Holandês Voador</td>\n",
       "      <td>HolandêsVoador@gmail.com</td>\n",
       "      <td>Holandês Voador</td>\n",
       "      <td>ODS 10</td>\n",
       "      <td>[Até 2030, progressivamente alcançar e sustent...</td>\n",
       "    </tr>\n",
       "    <tr>\n",
       "      <th>10</th>\n",
       "      <td>Objetivo 11 - Cidades e Comunidades Sustentáveis</td>\n",
       "      <td>Seu Sirigueijo</td>\n",
       "      <td>SeuSirigueijo@gmail.com</td>\n",
       "      <td>Seu Sirigueijo</td>\n",
       "      <td>ODS 11</td>\n",
       "      <td>[Até 2030, garantir o acesso de todos à habita...</td>\n",
       "    </tr>\n",
       "    <tr>\n",
       "      <th>11</th>\n",
       "      <td>Objetivo 12 - Consumo e Produção Responsáveis</td>\n",
       "      <td>Pérola</td>\n",
       "      <td>Pérola@gmail.com</td>\n",
       "      <td>Pérola</td>\n",
       "      <td>ODS 12</td>\n",
       "      <td>[Implementar o Plano Decenal de Programas sobr...</td>\n",
       "    </tr>\n",
       "    <tr>\n",
       "      <th>12</th>\n",
       "      <td>Objetivo 13 - Ação Contra a Mudança Global do ...</td>\n",
       "      <td>Rei Neturno</td>\n",
       "      <td>ReiNeturno@gmail.com</td>\n",
       "      <td>Rei Neturno</td>\n",
       "      <td>ODS 13</td>\n",
       "      <td>[Reforçar a resiliência e a capacidade de adap...</td>\n",
       "    </tr>\n",
       "    <tr>\n",
       "      <th>13</th>\n",
       "      <td>Objetivo 14 - Vida na Água</td>\n",
       "      <td>Bubble Bass</td>\n",
       "      <td>BubbleBass@gmail.com</td>\n",
       "      <td>Bubble Bass</td>\n",
       "      <td>ODS 14</td>\n",
       "      <td>[Conservação e uso sustentável dos oceanos, do...</td>\n",
       "    </tr>\n",
       "    <tr>\n",
       "      <th>14</th>\n",
       "      <td>Objetivo 15 - Vida Terrestre</td>\n",
       "      <td>Squilliam Fancyson</td>\n",
       "      <td>SquilliamFancyson@gmail.com</td>\n",
       "      <td>Squilliam Fancyson</td>\n",
       "      <td>ODS 15</td>\n",
       "      <td>[Até 2020, assegurar a conservação, recuperaçã...</td>\n",
       "    </tr>\n",
       "    <tr>\n",
       "      <th>15</th>\n",
       "      <td>Objetivo 16 - Paz, Justiça e Instituições Efic...</td>\n",
       "      <td>Bubble Bass</td>\n",
       "      <td>BubbleBass@gmail.com</td>\n",
       "      <td>Bubble Bass</td>\n",
       "      <td>ODS 16</td>\n",
       "      <td>[Reduzir significativamente todas as formas de...</td>\n",
       "    </tr>\n",
       "    <tr>\n",
       "      <th>16</th>\n",
       "      <td>Objetivo 17 - Parcerias e Meios de Implementação</td>\n",
       "      <td>Potty the Parrot</td>\n",
       "      <td>PottytheParrot@gmail.com</td>\n",
       "      <td>Potty the Parrot</td>\n",
       "      <td>ODS 17</td>\n",
       "      <td>[Fortalecer a mobilização de recursos internos...</td>\n",
       "    </tr>\n",
       "  </tbody>\n",
       "</table>\n",
       "</div>"
      ],
      "text/plain": [
       "                                      Área do Projeto          Orientador  \\\n",
       "0                 Objetivo 1 - Erradicação da Pobreza         Bob Esponja   \n",
       "1    Objetivo 2 - Fome Zero e Agricultura Sustentável                Gary   \n",
       "2                  Objetivo 3 - Boa Saúde e Bem-Estar     Patrick Estrela   \n",
       "3                  Objetivo 4 - Educação de Qualidade        Senhora Puff   \n",
       "4                    Objetivo 5 - Igualdade de Gênero        Lula Molusco   \n",
       "5              Objetivo 6 - Água Potável e Saneamento       Larry Lagosta   \n",
       "6              Objetivo 7 - Energia Limpa e Acessível            Plackton   \n",
       "7   Objetivo 8 - Emprego Decente e Crescimento Eco...               Karen   \n",
       "8   Objetivo 9 - Indústria, Inovação e Infraestrutura      Sandy Bochecas   \n",
       "9             Objetivo 10 - Redução das Desigualdades     Holandês Voador   \n",
       "10   Objetivo 11 - Cidades e Comunidades Sustentáveis      Seu Sirigueijo   \n",
       "11      Objetivo 12 - Consumo e Produção Responsáveis              Pérola   \n",
       "12  Objetivo 13 - Ação Contra a Mudança Global do ...         Rei Neturno   \n",
       "13                         Objetivo 14 - Vida na Água         Bubble Bass   \n",
       "14                       Objetivo 15 - Vida Terrestre  Squilliam Fancyson   \n",
       "15  Objetivo 16 - Paz, Justiça e Instituições Efic...         Bubble Bass   \n",
       "16   Objetivo 17 - Parcerias e Meios de Implementação    Potty the Parrot   \n",
       "\n",
       "              E-Mail orientador       Colaboradores Projeto  \\\n",
       "0          BobEsponja@gmail.com         Bob Esponja   ODS 1   \n",
       "1                Gary@gmail.com                Gary   ODS 2   \n",
       "2      PatrickEstrela@gmail.com     Patrick Estrela   ODS 3   \n",
       "3         SenhoraPuff@gmail.com        Senhora Puff   ODS 4   \n",
       "4         LulaMolusco@gmail.com        Lula Molusco   ODS 5   \n",
       "5        LarryLagosta@gmail.com       Larry Lagosta   ODS 6   \n",
       "6            Plackton@gmail.com            Plackton   ODS 7   \n",
       "7               Karen@gmail.com               Karen   ODS 8   \n",
       "8       SandyBochecas@gmail.com      Sandy Bochecas   ODS 9   \n",
       "9      HolandêsVoador@gmail.com     Holandês Voador  ODS 10   \n",
       "10      SeuSirigueijo@gmail.com      Seu Sirigueijo  ODS 11   \n",
       "11             Pérola@gmail.com              Pérola  ODS 12   \n",
       "12         ReiNeturno@gmail.com         Rei Neturno  ODS 13   \n",
       "13         BubbleBass@gmail.com         Bubble Bass  ODS 14   \n",
       "14  SquilliamFancyson@gmail.com  Squilliam Fancyson  ODS 15   \n",
       "15         BubbleBass@gmail.com         Bubble Bass  ODS 16   \n",
       "16     PottytheParrot@gmail.com    Potty the Parrot  ODS 17   \n",
       "\n",
       "                                               Resumo  \n",
       "0   [Até 2030, erradicar a pobreza extrema para to...  \n",
       "1   [Até 2030, acabar com a fome e garantir o aces...  \n",
       "2   [Até 2030, reduzir a taxa de mortalidade mater...  \n",
       "3   [Até 2030, garantir que todas as meninas e men...  \n",
       "4   [Acabar com todas as formas de discriminação c...  \n",
       "5   [Até 2030, alcançar o acesso universal e equit...  \n",
       "6   [Até 2030, assegurar o acesso universal, confi...  \n",
       "7   [Sustentar o crescimento econômico per capita ...  \n",
       "8   [Desenvolver infraestrutura de qualidade, conf...  \n",
       "9   [Até 2030, progressivamente alcançar e sustent...  \n",
       "10  [Até 2030, garantir o acesso de todos à habita...  \n",
       "11  [Implementar o Plano Decenal de Programas sobr...  \n",
       "12  [Reforçar a resiliência e a capacidade de adap...  \n",
       "13  [Conservação e uso sustentável dos oceanos, do...  \n",
       "14  [Até 2020, assegurar a conservação, recuperaçã...  \n",
       "15  [Reduzir significativamente todas as formas de...  \n",
       "16  [Fortalecer a mobilização de recursos internos...  "
      ]
     },
     "execution_count": 26,
     "metadata": {},
     "output_type": "execute_result"
    }
   ],
   "source": [
    "lista_resumos = []\n",
    "\n",
    "for i in range(17):\n",
    "    lista_resumos_aux = []\n",
    "    for j in range(len(ODS[i][:])):\n",
    "        lista_resumos_aux.append(str(ODS[i][j]).split('''- ''')[1])\n",
    "        \n",
    "        #lista_resumos_aux.append(ODS[i][j])\n",
    "    \n",
    "    #print(lista_resumos_aux)\n",
    "    lista_resumos.append(lista_resumos_aux)\n",
    "\n",
    "#print(lista_ODS)\n",
    "#print(lista_resumos)\n",
    " \n",
    "lista_df = pd.DataFrame(list(zip(lista_ODS,lista_orientador, lista_emails, lista_colaboradores, lista_projeto, lista_resumos)), columns =['Área do Projeto', 'Orientador', 'E-Mail orientador', 'Colaboradores', 'Projeto', 'Resumo'])\n",
    "lista_df"
   ]
  },
  {
   "cell_type": "code",
   "execution_count": 28,
   "metadata": {},
   "outputs": [],
   "source": [
    "#salvar .csv separado por ; \n",
    "\n",
    "lista_df.to_csv(r'D:\\Ufjf_ODS\\ODS_DF2.csv', encoding='utf-8-sig', sep = ';', index = False)"
   ]
  },
  {
   "cell_type": "markdown",
   "metadata": {},
   "source": [
    "### comentários abaixo: "
   ]
  },
  {
   "cell_type": "code",
   "execution_count": 16,
   "metadata": {
    "scrolled": true
   },
   "outputs": [
    {
     "ename": "NameError",
     "evalue": "name 'ODS_ods' is not defined",
     "output_type": "error",
     "traceback": [
      "\u001b[1;31m---------------------------------------------------------------------------\u001b[0m",
      "\u001b[1;31mNameError\u001b[0m                                 Traceback (most recent call last)",
      "\u001b[1;32m~\\AppData\\Local\\Temp/ipykernel_14844/1425924755.py\u001b[0m in \u001b[0;36m<module>\u001b[1;34m\u001b[0m\n\u001b[0;32m     11\u001b[0m \u001b[1;33m\u001b[0m\u001b[0m\n\u001b[0;32m     12\u001b[0m \u001b[1;31m#ODS_csv = pd.DataFrame(ODS_aux2)\u001b[0m\u001b[1;33m\u001b[0m\u001b[1;33m\u001b[0m\u001b[1;33m\u001b[0m\u001b[0m\n\u001b[1;32m---> 13\u001b[1;33m \u001b[0mODS_ods_csv\u001b[0m \u001b[1;33m=\u001b[0m \u001b[0mpd\u001b[0m\u001b[1;33m.\u001b[0m\u001b[0mDataFrame\u001b[0m\u001b[1;33m(\u001b[0m\u001b[0mODS_ods\u001b[0m\u001b[1;33m)\u001b[0m\u001b[1;33m\u001b[0m\u001b[1;33m\u001b[0m\u001b[0m\n\u001b[0m\u001b[0;32m     14\u001b[0m \u001b[0mODS_ods_csv\u001b[0m \u001b[1;33m=\u001b[0m \u001b[0mODS_ods_csv\u001b[0m\u001b[1;33m.\u001b[0m\u001b[0massign\u001b[0m\u001b[1;33m(\u001b[0m\u001b[0mmetas\u001b[0m \u001b[1;33m=\u001b[0m \u001b[0mODS_aux2\u001b[0m\u001b[1;33m)\u001b[0m\u001b[1;33m\u001b[0m\u001b[1;33m\u001b[0m\u001b[0m\n\u001b[0;32m     15\u001b[0m \u001b[1;33m\u001b[0m\u001b[0m\n",
      "\u001b[1;31mNameError\u001b[0m: name 'ODS_ods' is not defined"
     ]
    }
   ],
   "source": [
    "##ODS_metas = []\n",
    "##ODS_dict = {\n",
    "    ##'ODS': ODS[:][0]\n",
    "##}\n",
    "\n",
    "ODS_aux2 = []\n",
    "for o in range (17):\n",
    "    ODS_aux2.append(ODS[o][:])\n",
    "    \n",
    "\n",
    "\n",
    "#ODS_csv = pd.DataFrame(ODS_aux2)\n",
    "ODS_ods_csv = pd.DataFrame(ODS_ods)\n",
    "ODS_ods_csv = ODS_ods_csv.assign(metas = ODS_aux2)\n",
    "\n",
    "\n",
    "#ODS_csv =\n",
    "print(ODS_ods_csv)\n",
    "ODS_ods_csv.to_csv(r'D:\\Ufjf_ODS\\testeODS.csv', sep = ';', index = False)"
   ]
  },
  {
   "cell_type": "code",
   "execution_count": null,
   "metadata": {},
   "outputs": [],
   "source": [
    "ODS_lista = ['']\n",
    "ODS_lista[0].concat(ODS[0][:])\n",
    "ODS_csv = pd.DataFrame(ODS_lista[0])"
   ]
  },
  {
   "cell_type": "code",
   "execution_count": null,
   "metadata": {},
   "outputs": [],
   "source": [
    "ODS_csv.to_csv(r'D:\\Ufjf_ODS\\testeODS.csv', index = False)\n",
    "#ODS_csv.to_csv(r'D:\\Ufjf_ODS\\testeODS2.csv', index = False)"
   ]
  },
  {
   "cell_type": "code",
   "execution_count": null,
   "metadata": {},
   "outputs": [],
   "source": [
    "##EXEMPLO\n",
    "'''''importing the pandas library\n",
    "import pandas as pd'''\n",
    "  \n",
    "# creating lists\n",
    "'''l1 =[\"Amar\", \"Barsha\", \"Carlos\", \"Tanmay\", \"Misbah\"]\n",
    "l2 =[\"Alpha\", \"Bravo\", \"Charlie\", \"Tango\", \"Mike\"]\n",
    "l3 =[23, 25, 22, 27, 29]\n",
    "l4 =[69, 54, 73, 70, 74]\n",
    "  \n",
    "# creating the DataFrame\n",
    "team = pd.DataFrame(list(zip(l1, l2, l3, l4))) \n",
    "  \n",
    "# displaying the DataFrame\n",
    "print(team)'''\n"
   ]
  },
  {
   "cell_type": "code",
   "execution_count": null,
   "metadata": {
    "scrolled": true
   },
   "outputs": [],
   "source": [
    "import pandas as pd\n",
    "lista_ODS = [1,2,3]\n",
    "lista_resumos = ['Oi', ' OiOi', 'OiOiOi']\n",
    "lista_df = pd.DataFrame(list(zip(lista_ODS, lista_resumos)), columns =['ODS', 'Resumo'])\n",
    "lista_df\n",
    "\n"
   ]
  },
  {
   "cell_type": "code",
   "execution_count": null,
   "metadata": {},
   "outputs": [],
   "source": []
  }
 ],
 "metadata": {
  "kernelspec": {
   "display_name": "Python 3 (ipykernel)",
   "language": "python",
   "name": "python3"
  },
  "language_info": {
   "codemirror_mode": {
    "name": "ipython",
    "version": 3
   },
   "file_extension": ".py",
   "mimetype": "text/x-python",
   "name": "python",
   "nbconvert_exporter": "python",
   "pygments_lexer": "ipython3",
   "version": "3.8.11"
  }
 },
 "nbformat": 4,
 "nbformat_minor": 4
}

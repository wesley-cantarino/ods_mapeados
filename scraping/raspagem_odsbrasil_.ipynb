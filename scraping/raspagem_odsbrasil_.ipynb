{
 "cells": [
  {
   "cell_type": "code",
   "execution_count": 1,
   "metadata": {},
   "outputs": [],
   "source": [
    "from bs4 import BeautifulSoup\n",
    "from requests_html import HTMLSession, AsyncHTMLSession\n",
    "import pandas as pd"
   ]
  },
  {
   "cell_type": "code",
   "execution_count": 2,
   "metadata": {
    "scrolled": true
   },
   "outputs": [
    {
     "name": "stdout",
     "output_type": "stream",
     "text": [
      "Lendo ODS 1\n",
      "\t TimeoutError -- Trying again\n",
      "\t ODS 1 Lido\n",
      "Lendo ODS 2\n",
      "\t TimeoutError -- Trying again\n",
      "\t ODS 2 Lido\n",
      "Lendo ODS 3\n",
      "\t ODS 3 Lido\n",
      "Lendo ODS 4\n",
      "\t TimeoutError -- Trying again\n",
      "\t ODS 4 Lido\n",
      "Lendo ODS 5\n",
      "\t ODS 5 Lido\n",
      "Lendo ODS 6\n",
      "\t TimeoutError -- Trying again\n",
      "\t ODS 6 Lido\n",
      "Lendo ODS 7\n",
      "\t ODS 7 Lido\n",
      "Lendo ODS 8\n",
      "\t TimeoutError -- Trying again\n",
      "\t ODS 8 Lido\n",
      "Lendo ODS 9\n",
      "\t ODS 9 Lido\n",
      "Lendo ODS 10\n",
      "\t TimeoutError -- Trying again\n",
      "\t TimeoutError -- Trying again\n",
      "\t ODS 10 Lido\n",
      "Lendo ODS 11\n",
      "\t ODS 11 Lido\n",
      "Lendo ODS 12\n",
      "\t TimeoutError -- Trying again\n",
      "\t TimeoutError -- Trying again\n",
      "\t ODS 12 Lido\n",
      "Lendo ODS 13\n",
      "\t TimeoutError -- Trying again\n",
      "\t ODS 13 Lido\n",
      "Lendo ODS 14\n",
      "\t ODS 14 Lido\n",
      "Lendo ODS 15\n",
      "\t ODS 15 Lido\n",
      "Lendo ODS 16\n",
      "\t ODS 16 Lido\n",
      "Lendo ODS 17\n",
      "\t TimeoutError -- Trying again\n",
      "\t TimeoutError -- Trying again\n",
      "\t ODS 17 Lido\n"
     ]
    }
   ],
   "source": [
    "soups = []\n",
    "\n",
    "for ods in range(1, 18):\n",
    "    print(\"Lendo ODS \" + str(ods))\n",
    "    keep = True\n",
    "    while keep:\n",
    "        try:\n",
    "            html = \"https://odsbrasil.gov.br/objetivo/objetivo?n=\"+str(ods)\n",
    "            asession = AsyncHTMLSession()\n",
    "            r = await asession.get(html)\n",
    "            await r.html.arender(timeout=15)\n",
    "            resp = r.html.raw_html\n",
    "            s = BeautifulSoup(resp, 'lxml')\n",
    "            r.close()\n",
    "            await asession.close()\n",
    "            \n",
    "            if 0 != len(s.find_all('p', {'class': \"layout-header-metas font-pequena m-1\"})):\n",
    "                keep = False\n",
    "                soups.append(s)\n",
    "                print(\"\\t ODS \" + str(ods) + \" Lido\")\n",
    "            else:\n",
    "                print(\"\\t Not Fully Loaded -- Trying again\")\n",
    "                \n",
    "        except:\n",
    "            print(\"\\t TimeoutError -- Trying again\")"
   ]
  },
  {
   "cell_type": "code",
   "execution_count": 3,
   "metadata": {},
   "outputs": [],
   "source": [
    "#soups = []\n",
    "#for ods in range(1, 18):\n",
    "#    html = urlopen(\"https://odsbrasil.gov.br/objetivo/objetivo?n=\"+str(ods))\n",
    "#    soups.append(BeautifulSoup(html, 'html.parser'))"
   ]
  },
  {
   "cell_type": "markdown",
   "metadata": {},
   "source": [
    "### Lê os títulos dos ODS em cada página"
   ]
  },
  {
   "cell_type": "code",
   "execution_count": 4,
   "metadata": {},
   "outputs": [],
   "source": [
    "#print(soups[0])"
   ]
  },
  {
   "cell_type": "code",
   "execution_count": 3,
   "metadata": {},
   "outputs": [
    {
     "name": "stdout",
     "output_type": "stream",
     "text": [
      "['Objetivo 1 - Erradicação da Pobreza', 'Objetivo 2 - Fome Zero e Agricultura Sustentável', 'Objetivo 3 - Boa Saúde e Bem-Estar', 'Objetivo 4 - Educação de Qualidade', 'Objetivo 5 - Igualdade de Gênero', 'Objetivo 6 - Água Potável e Saneamento', 'Objetivo 7 - Energia Limpa e Acessível', 'Objetivo 8 - Emprego Decente e Crescimento Econômico', 'Objetivo 9 - Indústria, Inovação e Infraestrutura', 'Objetivo 10 - Redução das Desigualdades', 'Objetivo 11 - Cidades e Comunidades Sustentáveis', 'Objetivo 12 - Consumo e Produção Responsáveis', 'Objetivo 13 - Ação Contra a Mudança Global do Clima', 'Objetivo 14 - Vida na Água', 'Objetivo 15 - Vida Terrestre', 'Objetivo 16 - Paz, Justiça e Instituições Eficazes', 'Objetivo 17 - Parcerias e Meios de Implementação']\n"
     ]
    }
   ],
   "source": [
    "lista_ODS = []\n",
    "\n",
    "for soup in soups:\n",
    "    for b in soup.find_all('h4', {'class':\"texto faixa-onu-texto\"}):\n",
    "        lista_ODS.append((str(b).split(\"</a>\"))[1].split(\"<a\")[0].strip())\n",
    "print(lista_ODS)"
   ]
  },
  {
   "cell_type": "markdown",
   "metadata": {},
   "source": [
    "### Lê a descrição dos ODS em cada página"
   ]
  },
  {
   "cell_type": "code",
   "execution_count": 4,
   "metadata": {},
   "outputs": [
    {
     "name": "stdout",
     "output_type": "stream",
     "text": [
      "[<div id=\"descricao-objetivo\"><h3>Acabar com a pobreza em todas as suas formas, em todos os lugares</h3></div>]\n"
     ]
    }
   ],
   "source": [
    "for i, soup in enumerate(soups):\n",
    "    d = soup.find_all('div', {'id':\"descricao-objetivo\"})\n",
    "    #print('ODS', i+1, \":\", (str(d).split(\"<h3>\"))[1].split(\"</h3>\")[0].strip(), \"\\n\")\n",
    "    print(d)\n",
    "    break"
   ]
  },
  {
   "cell_type": "code",
   "execution_count": 5,
   "metadata": {
    "scrolled": true
   },
   "outputs": [
    {
     "name": "stdout",
     "output_type": "stream",
     "text": [
      "ODS 1 : Acabar com a pobreza em todas as suas formas, em todos os lugares\n"
     ]
    }
   ],
   "source": [
    "string = str(d)\n",
    "lista =string.split(\"<h3>\")\n",
    "string2 = lista[1]\n",
    "lista2 = string2.split(\"</h3>\")\n",
    "descricao = lista2[0]\n",
    "\n",
    "print('ODS', 1,':', descricao)"
   ]
  },
  {
   "cell_type": "markdown",
   "metadata": {},
   "source": [
    "### Lê conjunto de metas de cada ODS em cada página"
   ]
  },
  {
   "cell_type": "code",
   "execution_count": 6,
   "metadata": {},
   "outputs": [],
   "source": [
    "import pandas as pd"
   ]
  },
  {
   "cell_type": "code",
   "execution_count": 7,
   "metadata": {},
   "outputs": [],
   "source": [
    "ODS = []\n",
    "for i, soup in enumerate(soups):\n",
    "    #print(\"\\n ###################### METAS PARA ODS \", i+1, \"\\n\")\n",
    "    d = soup.find_all('p', {'class': \"layout-header-metas font-pequena m-1\"})\n",
    "    ODS_aux = []\n",
    "    \n",
    "    for ss in d:\n",
    "        begin = '''<p class=\"layout-header-metas font-pequena m-1\">'''\n",
    "        end = '''</p>'''\n",
    "        #print(\"\\t\", str(ss).split(begin)[1].split(end)[0].strip(), \"\\n\")\n",
    "        ODS_aux.append(str(ss).split(begin)[1].split(end)[0].strip())\n",
    "    \n",
    "    ODS.append(ODS_aux)\n",
    "\n",
    "#print(ODS[0][6])\n",
    "#len(ODS[0][:])"
   ]
  },
  {
   "cell_type": "code",
   "execution_count": 8,
   "metadata": {},
   "outputs": [
    {
     "name": "stdout",
     "output_type": "stream",
     "text": [
      "1.1 - Até 2030, erradicar a pobreza extrema para todas as pessoas em todos os lugares, atualmente medida como pessoas vivendo com menos de US$ 1,25 por dia \n",
      "\n",
      "Até 2030, erradicar a pobreza extrema para todas as pessoas em todos os lugares, atualmente medida como pessoas vivendo com menos de US$ 1,25 por dia\n"
     ]
    }
   ],
   "source": [
    "#forma de se retirar o i.j das metas\n",
    "\n",
    "print(ODS[0][0], \"\\n\")\n",
    "\n",
    "abc = str(ODS[0][0]).split('''- ''')[1]\n",
    "print(abc)"
   ]
  },
  {
   "cell_type": "code",
   "execution_count": 26,
   "metadata": {},
   "outputs": [
    {
     "data": {
      "text/html": [
       "<div>\n",
       "<style scoped>\n",
       "    .dataframe tbody tr th:only-of-type {\n",
       "        vertical-align: middle;\n",
       "    }\n",
       "\n",
       "    .dataframe tbody tr th {\n",
       "        vertical-align: top;\n",
       "    }\n",
       "\n",
       "    .dataframe thead th {\n",
       "        text-align: right;\n",
       "    }\n",
       "</style>\n",
       "<table border=\"1\" class=\"dataframe\">\n",
       "  <thead>\n",
       "    <tr style=\"text-align: right;\">\n",
       "      <th></th>\n",
       "      <th>ODS</th>\n",
       "      <th>Metas</th>\n",
       "    </tr>\n",
       "  </thead>\n",
       "  <tbody>\n",
       "    <tr>\n",
       "      <th>0</th>\n",
       "      <td>Objetivo 1 - Erradicação da Pobreza</td>\n",
       "      <td>Até 2030, erradicar a pobreza extrema para tod...</td>\n",
       "    </tr>\n",
       "    <tr>\n",
       "      <th>1</th>\n",
       "      <td>Objetivo 2 - Fome Zero e Agricultura Sustentável</td>\n",
       "      <td>Até 2030, acabar com a fome e garantir o acess...</td>\n",
       "    </tr>\n",
       "    <tr>\n",
       "      <th>2</th>\n",
       "      <td>Objetivo 3 - Boa Saúde e Bem-Estar</td>\n",
       "      <td>Até 2030, reduzir a taxa de mortalidade matern...</td>\n",
       "    </tr>\n",
       "    <tr>\n",
       "      <th>3</th>\n",
       "      <td>Objetivo 4 - Educação de Qualidade</td>\n",
       "      <td>Até 2030, garantir que todas as meninas e meni...</td>\n",
       "    </tr>\n",
       "    <tr>\n",
       "      <th>4</th>\n",
       "      <td>Objetivo 5 - Igualdade de Gênero</td>\n",
       "      <td>Acabar com todas as formas de discriminação co...</td>\n",
       "    </tr>\n",
       "    <tr>\n",
       "      <th>5</th>\n",
       "      <td>Objetivo 6 - Água Potável e Saneamento</td>\n",
       "      <td>Até 2030, alcançar o acesso universal e equita...</td>\n",
       "    </tr>\n",
       "    <tr>\n",
       "      <th>6</th>\n",
       "      <td>Objetivo 7 - Energia Limpa e Acessível</td>\n",
       "      <td>Até 2030, assegurar o acesso universal, confiá...</td>\n",
       "    </tr>\n",
       "    <tr>\n",
       "      <th>7</th>\n",
       "      <td>Objetivo 8 - Emprego Decente e Crescimento Eco...</td>\n",
       "      <td>Sustentar o crescimento econômico per capita d...</td>\n",
       "    </tr>\n",
       "    <tr>\n",
       "      <th>8</th>\n",
       "      <td>Objetivo 9 - Indústria, Inovação e Infraestrutura</td>\n",
       "      <td>Desenvolver infraestrutura de qualidade, confi...</td>\n",
       "    </tr>\n",
       "    <tr>\n",
       "      <th>9</th>\n",
       "      <td>Objetivo 10 - Redução das Desigualdades</td>\n",
       "      <td>Até 2030, progressivamente alcançar e sustenta...</td>\n",
       "    </tr>\n",
       "    <tr>\n",
       "      <th>10</th>\n",
       "      <td>Objetivo 11 - Cidades e Comunidades Sustentáveis</td>\n",
       "      <td>Até 2030, garantir o acesso de todos à habitaç...</td>\n",
       "    </tr>\n",
       "    <tr>\n",
       "      <th>11</th>\n",
       "      <td>Objetivo 12 - Consumo e Produção Responsáveis</td>\n",
       "      <td>Implementar o Plano Decenal de Programas sobre...</td>\n",
       "    </tr>\n",
       "    <tr>\n",
       "      <th>12</th>\n",
       "      <td>Objetivo 13 - Ação Contra a Mudança Global do ...</td>\n",
       "      <td>Reforçar a resiliência e a capacidade de adapt...</td>\n",
       "    </tr>\n",
       "    <tr>\n",
       "      <th>13</th>\n",
       "      <td>Objetivo 14 - Vida na Água</td>\n",
       "      <td>Conservação e uso sustentável dos oceanos, dos...</td>\n",
       "    </tr>\n",
       "    <tr>\n",
       "      <th>14</th>\n",
       "      <td>Objetivo 15 - Vida Terrestre</td>\n",
       "      <td>Até 2020, assegurar a conservação, recuperação...</td>\n",
       "    </tr>\n",
       "    <tr>\n",
       "      <th>15</th>\n",
       "      <td>Objetivo 16 - Paz, Justiça e Instituições Efic...</td>\n",
       "      <td>Reduzir significativamente todas as formas de ...</td>\n",
       "    </tr>\n",
       "    <tr>\n",
       "      <th>16</th>\n",
       "      <td>Objetivo 17 - Parcerias e Meios de Implementação</td>\n",
       "      <td>Fortalecer a mobilização de recursos internos,...</td>\n",
       "    </tr>\n",
       "  </tbody>\n",
       "</table>\n",
       "</div>"
      ],
      "text/plain": [
       "                                                  ODS  \\\n",
       "0                 Objetivo 1 - Erradicação da Pobreza   \n",
       "1    Objetivo 2 - Fome Zero e Agricultura Sustentável   \n",
       "2                  Objetivo 3 - Boa Saúde e Bem-Estar   \n",
       "3                  Objetivo 4 - Educação de Qualidade   \n",
       "4                    Objetivo 5 - Igualdade de Gênero   \n",
       "5              Objetivo 6 - Água Potável e Saneamento   \n",
       "6              Objetivo 7 - Energia Limpa e Acessível   \n",
       "7   Objetivo 8 - Emprego Decente e Crescimento Eco...   \n",
       "8   Objetivo 9 - Indústria, Inovação e Infraestrutura   \n",
       "9             Objetivo 10 - Redução das Desigualdades   \n",
       "10   Objetivo 11 - Cidades e Comunidades Sustentáveis   \n",
       "11      Objetivo 12 - Consumo e Produção Responsáveis   \n",
       "12  Objetivo 13 - Ação Contra a Mudança Global do ...   \n",
       "13                         Objetivo 14 - Vida na Água   \n",
       "14                       Objetivo 15 - Vida Terrestre   \n",
       "15  Objetivo 16 - Paz, Justiça e Instituições Efic...   \n",
       "16   Objetivo 17 - Parcerias e Meios de Implementação   \n",
       "\n",
       "                                                Metas  \n",
       "0   Até 2030, erradicar a pobreza extrema para tod...  \n",
       "1   Até 2030, acabar com a fome e garantir o acess...  \n",
       "2   Até 2030, reduzir a taxa de mortalidade matern...  \n",
       "3   Até 2030, garantir que todas as meninas e meni...  \n",
       "4   Acabar com todas as formas de discriminação co...  \n",
       "5   Até 2030, alcançar o acesso universal e equita...  \n",
       "6   Até 2030, assegurar o acesso universal, confiá...  \n",
       "7   Sustentar o crescimento econômico per capita d...  \n",
       "8   Desenvolver infraestrutura de qualidade, confi...  \n",
       "9   Até 2030, progressivamente alcançar e sustenta...  \n",
       "10  Até 2030, garantir o acesso de todos à habitaç...  \n",
       "11  Implementar o Plano Decenal de Programas sobre...  \n",
       "12  Reforçar a resiliência e a capacidade de adapt...  \n",
       "13  Conservação e uso sustentável dos oceanos, dos...  \n",
       "14  Até 2020, assegurar a conservação, recuperação...  \n",
       "15  Reduzir significativamente todas as formas de ...  \n",
       "16  Fortalecer a mobilização de recursos internos,...  "
      ]
     },
     "execution_count": 26,
     "metadata": {},
     "output_type": "execute_result"
    }
   ],
   "source": [
    "lista_resumos = []\n",
    "\n",
    "for i in range(17):\n",
    "    lista_resumos_aux = []\n",
    "    for j in range(len(ODS[i][:])):\n",
    "        lista_resumos_aux.append(str(ODS[i][j]).split('''- ''')[1])\n",
    "        \n",
    "        #lista_resumos_aux.append(ODS[i][j])\n",
    "    \n",
    "    abc = str(lista_resumos_aux).split(\"['\")[1]\n",
    "    abc_ = \n",
    "    lista_resumos.append(str(lista_resumos_aux).split(\"['\")[1])\n",
    "\n",
    "#print(lista_ODS)\n",
    "#print(lista_resumos)\n",
    "    \n",
    "lista_df = pd.DataFrame(list(zip(lista_ODS, lista_resumos)), columns =['ODS', 'Metas'])\n",
    "lista_df.shape\n",
    "lista_df"
   ]
  },
  {
   "cell_type": "code",
   "execution_count": 27,
   "metadata": {},
   "outputs": [],
   "source": [
    "#salvar .csv separado por ; \n",
    "\n",
    "lista_df.to_csv(r'..\\scraping\\ODS_DF.csv', encoding = \"utf-8-sig\", sep = ';', index = False, header = False)"
   ]
  },
  {
   "cell_type": "markdown",
   "metadata": {},
   "source": [
    "### comentários abaixo: "
   ]
  },
  {
   "cell_type": "code",
   "execution_count": 12,
   "metadata": {
    "scrolled": true
   },
   "outputs": [
    {
     "name": "stdout",
     "output_type": "stream",
     "text": [
      "     0                                              metas\n",
      "0    1  [1.1 - Até 2030, erradicar a pobreza extrema p...\n",
      "1    2  [2.1 - Até 2030, acabar com a fome e garantir ...\n",
      "2    3  [3.1 - Até 2030, reduzir a taxa de mortalidade...\n",
      "3    4  [4.1 - Até 2030, garantir que todas as meninas...\n",
      "4    5  [5.1 - Acabar com todas as formas de discrimin...\n",
      "5    6  [6.1 - Até 2030, alcançar o acesso universal e...\n",
      "6    7  [7.1 - Até 2030, assegurar o acesso universal,...\n",
      "7    8  [8.1 - Sustentar o crescimento econômico per c...\n",
      "8    9  [9.1 - Desenvolver infraestrutura de qualidade...\n",
      "9   10  [10.1 - Até 2030, progressivamente alcançar e ...\n",
      "10  11  [11.1 - Até 2030, garantir o acesso de todos à...\n",
      "11  12  [12.1 - Implementar o Plano Decenal de Program...\n",
      "12  13  [13.1 - Reforçar a resiliência e a capacidade ...\n",
      "13  14  [14.1 - Conservação e uso sustentável dos ocea...\n",
      "14  15  [15.1 - Até 2020, assegurar a conservação, rec...\n",
      "15  16  [16.1 - Reduzir significativamente todas as fo...\n",
      "16  17  [17.1 - Fortalecer a mobilização de recursos i...\n"
     ]
    },
    {
     "ename": "FileNotFoundError",
     "evalue": "[Errno 2] No such file or directory: 'D:\\\\Ufjf_ODS\\\\testeODS.csv'",
     "output_type": "error",
     "traceback": [
      "\u001b[1;31m---------------------------------------------------------------------------\u001b[0m",
      "\u001b[1;31mFileNotFoundError\u001b[0m                         Traceback (most recent call last)",
      "\u001b[1;32m~\\AppData\\Local\\Temp/ipykernel_7776/3786370506.py\u001b[0m in \u001b[0;36m<module>\u001b[1;34m\u001b[0m\n\u001b[0;32m     17\u001b[0m \u001b[1;31m#ODS_csv =\u001b[0m\u001b[1;33m\u001b[0m\u001b[1;33m\u001b[0m\u001b[1;33m\u001b[0m\u001b[0m\n\u001b[0;32m     18\u001b[0m \u001b[0mprint\u001b[0m\u001b[1;33m(\u001b[0m\u001b[0mODS_ods_csv\u001b[0m\u001b[1;33m)\u001b[0m\u001b[1;33m\u001b[0m\u001b[1;33m\u001b[0m\u001b[0m\n\u001b[1;32m---> 19\u001b[1;33m \u001b[0mODS_ods_csv\u001b[0m\u001b[1;33m.\u001b[0m\u001b[0mto_csv\u001b[0m\u001b[1;33m(\u001b[0m\u001b[1;34mr'D:\\Ufjf_ODS\\testeODS.csv'\u001b[0m\u001b[1;33m,\u001b[0m \u001b[0msep\u001b[0m \u001b[1;33m=\u001b[0m \u001b[1;34m';'\u001b[0m\u001b[1;33m,\u001b[0m \u001b[0mindex\u001b[0m \u001b[1;33m=\u001b[0m \u001b[1;32mFalse\u001b[0m\u001b[1;33m,\u001b[0m \u001b[0mheader\u001b[0m \u001b[1;33m=\u001b[0m \u001b[1;32mFalse\u001b[0m\u001b[1;33m)\u001b[0m\u001b[1;33m\u001b[0m\u001b[1;33m\u001b[0m\u001b[0m\n\u001b[0m",
      "\u001b[1;32m~\\anaconda3\\envs\\ODS\\lib\\site-packages\\pandas\\core\\generic.py\u001b[0m in \u001b[0;36mto_csv\u001b[1;34m(self, path_or_buf, sep, na_rep, float_format, columns, header, index, index_label, mode, encoding, compression, quoting, quotechar, line_terminator, chunksize, date_format, doublequote, escapechar, decimal, errors, storage_options)\u001b[0m\n\u001b[0;32m   3464\u001b[0m         )\n\u001b[0;32m   3465\u001b[0m \u001b[1;33m\u001b[0m\u001b[0m\n\u001b[1;32m-> 3466\u001b[1;33m         return DataFrameRenderer(formatter).to_csv(\n\u001b[0m\u001b[0;32m   3467\u001b[0m             \u001b[0mpath_or_buf\u001b[0m\u001b[1;33m,\u001b[0m\u001b[1;33m\u001b[0m\u001b[1;33m\u001b[0m\u001b[0m\n\u001b[0;32m   3468\u001b[0m             \u001b[0mline_terminator\u001b[0m\u001b[1;33m=\u001b[0m\u001b[0mline_terminator\u001b[0m\u001b[1;33m,\u001b[0m\u001b[1;33m\u001b[0m\u001b[1;33m\u001b[0m\u001b[0m\n",
      "\u001b[1;32m~\\anaconda3\\envs\\ODS\\lib\\site-packages\\pandas\\io\\formats\\format.py\u001b[0m in \u001b[0;36mto_csv\u001b[1;34m(self, path_or_buf, encoding, sep, columns, index_label, mode, compression, quoting, quotechar, line_terminator, chunksize, date_format, doublequote, escapechar, errors, storage_options)\u001b[0m\n\u001b[0;32m   1103\u001b[0m             \u001b[0mformatter\u001b[0m\u001b[1;33m=\u001b[0m\u001b[0mself\u001b[0m\u001b[1;33m.\u001b[0m\u001b[0mfmt\u001b[0m\u001b[1;33m,\u001b[0m\u001b[1;33m\u001b[0m\u001b[1;33m\u001b[0m\u001b[0m\n\u001b[0;32m   1104\u001b[0m         )\n\u001b[1;32m-> 1105\u001b[1;33m         \u001b[0mcsv_formatter\u001b[0m\u001b[1;33m.\u001b[0m\u001b[0msave\u001b[0m\u001b[1;33m(\u001b[0m\u001b[1;33m)\u001b[0m\u001b[1;33m\u001b[0m\u001b[1;33m\u001b[0m\u001b[0m\n\u001b[0m\u001b[0;32m   1106\u001b[0m \u001b[1;33m\u001b[0m\u001b[0m\n\u001b[0;32m   1107\u001b[0m         \u001b[1;32mif\u001b[0m \u001b[0mcreated_buffer\u001b[0m\u001b[1;33m:\u001b[0m\u001b[1;33m\u001b[0m\u001b[1;33m\u001b[0m\u001b[0m\n",
      "\u001b[1;32m~\\anaconda3\\envs\\ODS\\lib\\site-packages\\pandas\\io\\formats\\csvs.py\u001b[0m in \u001b[0;36msave\u001b[1;34m(self)\u001b[0m\n\u001b[0;32m    235\u001b[0m         \"\"\"\n\u001b[0;32m    236\u001b[0m         \u001b[1;31m# apply compression and byte/text conversion\u001b[0m\u001b[1;33m\u001b[0m\u001b[1;33m\u001b[0m\u001b[1;33m\u001b[0m\u001b[0m\n\u001b[1;32m--> 237\u001b[1;33m         with get_handle(\n\u001b[0m\u001b[0;32m    238\u001b[0m             \u001b[0mself\u001b[0m\u001b[1;33m.\u001b[0m\u001b[0mfilepath_or_buffer\u001b[0m\u001b[1;33m,\u001b[0m\u001b[1;33m\u001b[0m\u001b[1;33m\u001b[0m\u001b[0m\n\u001b[0;32m    239\u001b[0m             \u001b[0mself\u001b[0m\u001b[1;33m.\u001b[0m\u001b[0mmode\u001b[0m\u001b[1;33m,\u001b[0m\u001b[1;33m\u001b[0m\u001b[1;33m\u001b[0m\u001b[0m\n",
      "\u001b[1;32m~\\anaconda3\\envs\\ODS\\lib\\site-packages\\pandas\\io\\common.py\u001b[0m in \u001b[0;36mget_handle\u001b[1;34m(path_or_buf, mode, encoding, compression, memory_map, is_text, errors, storage_options)\u001b[0m\n\u001b[0;32m    700\u001b[0m         \u001b[1;32mif\u001b[0m \u001b[0mioargs\u001b[0m\u001b[1;33m.\u001b[0m\u001b[0mencoding\u001b[0m \u001b[1;32mand\u001b[0m \u001b[1;34m\"b\"\u001b[0m \u001b[1;32mnot\u001b[0m \u001b[1;32min\u001b[0m \u001b[0mioargs\u001b[0m\u001b[1;33m.\u001b[0m\u001b[0mmode\u001b[0m\u001b[1;33m:\u001b[0m\u001b[1;33m\u001b[0m\u001b[1;33m\u001b[0m\u001b[0m\n\u001b[0;32m    701\u001b[0m             \u001b[1;31m# Encoding\u001b[0m\u001b[1;33m\u001b[0m\u001b[1;33m\u001b[0m\u001b[1;33m\u001b[0m\u001b[0m\n\u001b[1;32m--> 702\u001b[1;33m             handle = open(\n\u001b[0m\u001b[0;32m    703\u001b[0m                 \u001b[0mhandle\u001b[0m\u001b[1;33m,\u001b[0m\u001b[1;33m\u001b[0m\u001b[1;33m\u001b[0m\u001b[0m\n\u001b[0;32m    704\u001b[0m                 \u001b[0mioargs\u001b[0m\u001b[1;33m.\u001b[0m\u001b[0mmode\u001b[0m\u001b[1;33m,\u001b[0m\u001b[1;33m\u001b[0m\u001b[1;33m\u001b[0m\u001b[0m\n",
      "\u001b[1;31mFileNotFoundError\u001b[0m: [Errno 2] No such file or directory: 'D:\\\\Ufjf_ODS\\\\testeODS.csv'"
     ]
    }
   ],
   "source": [
    "##ODS_metas = []\n",
    "##ODS_dict = {\n",
    "    ##'ODS': ODS[:][0]\n",
    "##}\n",
    "\n",
    "ODS_aux2 = []\n",
    "for o in range (17):\n",
    "    ODS_aux2.append(ODS[o][:])\n",
    "    \n",
    "\n",
    "\n",
    "#ODS_csv = pd.DataFrame(ODS_aux2)\n",
    "ODS_ods_csv = pd.DataFrame(ODS_ods)\n",
    "ODS_ods_csv = ODS_ods_csv.assign(metas = ODS_aux2)\n",
    "\n",
    "\n",
    "#ODS_csv =\n",
    "print(ODS_ods_csv)\n",
    "ODS_ods_csv.to_csv(r'D:\\Ufjf_ODS\\testeODS.csv', sep = ';', index = False, header = False)"
   ]
  },
  {
   "cell_type": "code",
   "execution_count": 13,
   "metadata": {},
   "outputs": [
    {
     "ename": "AttributeError",
     "evalue": "'str' object has no attribute 'concat'",
     "output_type": "error",
     "traceback": [
      "\u001b[1;31m---------------------------------------------------------------------------\u001b[0m",
      "\u001b[1;31mAttributeError\u001b[0m                            Traceback (most recent call last)",
      "\u001b[1;32m~\\AppData\\Local\\Temp/ipykernel_7776/609522441.py\u001b[0m in \u001b[0;36m<module>\u001b[1;34m\u001b[0m\n\u001b[0;32m      1\u001b[0m \u001b[0mODS_lista\u001b[0m \u001b[1;33m=\u001b[0m \u001b[1;33m[\u001b[0m\u001b[1;34m''\u001b[0m\u001b[1;33m]\u001b[0m\u001b[1;33m\u001b[0m\u001b[1;33m\u001b[0m\u001b[0m\n\u001b[1;32m----> 2\u001b[1;33m \u001b[0mODS_lista\u001b[0m\u001b[1;33m[\u001b[0m\u001b[1;36m0\u001b[0m\u001b[1;33m]\u001b[0m\u001b[1;33m.\u001b[0m\u001b[0mconcat\u001b[0m\u001b[1;33m(\u001b[0m\u001b[0mODS\u001b[0m\u001b[1;33m[\u001b[0m\u001b[1;36m0\u001b[0m\u001b[1;33m]\u001b[0m\u001b[1;33m[\u001b[0m\u001b[1;33m:\u001b[0m\u001b[1;33m]\u001b[0m\u001b[1;33m)\u001b[0m\u001b[1;33m\u001b[0m\u001b[1;33m\u001b[0m\u001b[0m\n\u001b[0m\u001b[0;32m      3\u001b[0m \u001b[0mODS_csv\u001b[0m \u001b[1;33m=\u001b[0m \u001b[0mpd\u001b[0m\u001b[1;33m.\u001b[0m\u001b[0mDataFrame\u001b[0m\u001b[1;33m(\u001b[0m\u001b[0mODS_lista\u001b[0m\u001b[1;33m[\u001b[0m\u001b[1;36m0\u001b[0m\u001b[1;33m]\u001b[0m\u001b[1;33m)\u001b[0m\u001b[1;33m\u001b[0m\u001b[1;33m\u001b[0m\u001b[0m\n",
      "\u001b[1;31mAttributeError\u001b[0m: 'str' object has no attribute 'concat'"
     ]
    }
   ],
   "source": [
    "ODS_lista = ['']\n",
    "ODS_lista[0].concat(ODS[0][:])\n",
    "ODS_csv = pd.DataFrame(ODS_lista[0])"
   ]
  },
  {
   "cell_type": "code",
   "execution_count": 14,
   "metadata": {},
   "outputs": [
    {
     "ename": "NameError",
     "evalue": "name 'ODS_csv' is not defined",
     "output_type": "error",
     "traceback": [
      "\u001b[1;31m---------------------------------------------------------------------------\u001b[0m",
      "\u001b[1;31mNameError\u001b[0m                                 Traceback (most recent call last)",
      "\u001b[1;32m~\\AppData\\Local\\Temp/ipykernel_7776/2345214887.py\u001b[0m in \u001b[0;36m<module>\u001b[1;34m\u001b[0m\n\u001b[1;32m----> 1\u001b[1;33m \u001b[0mODS_csv\u001b[0m\u001b[1;33m.\u001b[0m\u001b[0mto_csv\u001b[0m\u001b[1;33m(\u001b[0m\u001b[1;34mr'D:\\Ufjf_ODS\\testeODS.csv'\u001b[0m\u001b[1;33m,\u001b[0m \u001b[0mindex\u001b[0m \u001b[1;33m=\u001b[0m \u001b[1;32mFalse\u001b[0m\u001b[1;33m)\u001b[0m\u001b[1;33m\u001b[0m\u001b[1;33m\u001b[0m\u001b[0m\n\u001b[0m\u001b[0;32m      2\u001b[0m \u001b[1;31m#ODS_csv.to_csv(r'D:\\Ufjf_ODS\\testeODS2.csv', index = False)\u001b[0m\u001b[1;33m\u001b[0m\u001b[1;33m\u001b[0m\u001b[1;33m\u001b[0m\u001b[0m\n",
      "\u001b[1;31mNameError\u001b[0m: name 'ODS_csv' is not defined"
     ]
    }
   ],
   "source": [
    "ODS_csv.to_csv(r'D:\\Ufjf_ODS\\testeODS.csv', index = False)\n",
    "#ODS_csv.to_csv(r'D:\\Ufjf_ODS\\testeODS2.csv', index = False)"
   ]
  },
  {
   "cell_type": "code",
   "execution_count": 15,
   "metadata": {},
   "outputs": [
    {
     "data": {
      "text/plain": [
       "'l1 =[\"Amar\", \"Barsha\", \"Carlos\", \"Tanmay\", \"Misbah\"]\\nl2 =[\"Alpha\", \"Bravo\", \"Charlie\", \"Tango\", \"Mike\"]\\nl3 =[23, 25, 22, 27, 29]\\nl4 =[69, 54, 73, 70, 74]\\n  \\n# creating the DataFrame\\nteam = pd.DataFrame(list(zip(l1, l2, l3, l4))) \\n  \\n# displaying the DataFrame\\nprint(team)'"
      ]
     },
     "execution_count": 15,
     "metadata": {},
     "output_type": "execute_result"
    }
   ],
   "source": [
    "##EXEMPLO\n",
    "'''''importing the pandas library\n",
    "import pandas as pd'''\n",
    "  \n",
    "# creating lists\n",
    "'''l1 =[\"Amar\", \"Barsha\", \"Carlos\", \"Tanmay\", \"Misbah\"]\n",
    "l2 =[\"Alpha\", \"Bravo\", \"Charlie\", \"Tango\", \"Mike\"]\n",
    "l3 =[23, 25, 22, 27, 29]\n",
    "l4 =[69, 54, 73, 70, 74]\n",
    "  \n",
    "# creating the DataFrame\n",
    "team = pd.DataFrame(list(zip(l1, l2, l3, l4))) \n",
    "  \n",
    "# displaying the DataFrame\n",
    "print(team)'''\n"
   ]
  },
  {
   "cell_type": "code",
   "execution_count": 16,
   "metadata": {
    "scrolled": true
   },
   "outputs": [
    {
     "data": {
      "text/html": [
       "<div>\n",
       "<style scoped>\n",
       "    .dataframe tbody tr th:only-of-type {\n",
       "        vertical-align: middle;\n",
       "    }\n",
       "\n",
       "    .dataframe tbody tr th {\n",
       "        vertical-align: top;\n",
       "    }\n",
       "\n",
       "    .dataframe thead th {\n",
       "        text-align: right;\n",
       "    }\n",
       "</style>\n",
       "<table border=\"1\" class=\"dataframe\">\n",
       "  <thead>\n",
       "    <tr style=\"text-align: right;\">\n",
       "      <th></th>\n",
       "      <th>ODS</th>\n",
       "      <th>Resumo</th>\n",
       "    </tr>\n",
       "  </thead>\n",
       "  <tbody>\n",
       "    <tr>\n",
       "      <th>0</th>\n",
       "      <td>1</td>\n",
       "      <td>Oi</td>\n",
       "    </tr>\n",
       "    <tr>\n",
       "      <th>1</th>\n",
       "      <td>2</td>\n",
       "      <td>OiOi</td>\n",
       "    </tr>\n",
       "    <tr>\n",
       "      <th>2</th>\n",
       "      <td>3</td>\n",
       "      <td>OiOiOi</td>\n",
       "    </tr>\n",
       "  </tbody>\n",
       "</table>\n",
       "</div>"
      ],
      "text/plain": [
       "   ODS  Resumo\n",
       "0    1      Oi\n",
       "1    2    OiOi\n",
       "2    3  OiOiOi"
      ]
     },
     "execution_count": 16,
     "metadata": {},
     "output_type": "execute_result"
    }
   ],
   "source": [
    "import pandas as pd\n",
    "lista_ODS = [1,2,3]\n",
    "lista_resumos = ['Oi', ' OiOi', 'OiOiOi']\n",
    "lista_df = pd.DataFrame(list(zip(lista_ODS, lista_resumos)), columns =['ODS', 'Resumo'])\n",
    "lista_df\n",
    "\n"
   ]
  },
  {
   "cell_type": "code",
   "execution_count": null,
   "metadata": {},
   "outputs": [],
   "source": []
  }
 ],
 "metadata": {
  "kernelspec": {
   "display_name": "Python 3 (ipykernel)",
   "language": "python",
   "name": "python3"
  },
  "language_info": {
   "codemirror_mode": {
    "name": "ipython",
    "version": 3
   },
   "file_extension": ".py",
   "mimetype": "text/x-python",
   "name": "python",
   "nbconvert_exporter": "python",
   "pygments_lexer": "ipython3",
   "version": "3.8.11"
  }
 },
 "nbformat": 4,
 "nbformat_minor": 4
}
